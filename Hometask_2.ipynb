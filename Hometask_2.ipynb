{
 "cells": [
  {
   "cell_type": "code",
   "execution_count": 1,
   "metadata": {},
   "outputs": [
    {
     "name": "stdout",
     "output_type": "stream",
     "text": [
      "0.15769627200015035\n",
      "0.8856692507028049\n",
      "0.9870777759894143\n",
      "0.06578215187397951\n",
      "0.20508599660721705\n",
      "0.3920392084817398\n",
      "0.7408193971022039\n",
      "0.6348029984359103\n",
      "0.07709305943552913\n",
      "0.046447923349299924\n"
     ]
    }
   ],
   "source": [
    "#Exercise 1\n",
    "\n",
    "import numpy as np\n",
    "a = np.random.random((10, 3))\n",
    "minimum = 1\n",
    "for i in range(10):\n",
    "    for j in range(3):\n",
    "        if abs(a[i,j]-0.5) < minimum:\n",
    "            minimum = a[i,j]\n",
    "    print(minimum)\n",
    "    minimum = 1"
   ]
  },
  {
   "cell_type": "code",
   "execution_count": 16,
   "metadata": {},
   "outputs": [
    {
     "name": "stdout",
     "output_type": "stream",
     "text": [
      "12.041892669751224\n",
      "211.14408223149042\n",
      "28.515286747145666\n",
      "31.45426456211289\n",
      "25.51614342885927\n",
      "28.759111588465203\n"
     ]
    }
   ],
   "source": [
    "#Exercise 2\n",
    "\n",
    "a = np.random.random((6, 6))\n",
    "sum = 0\n",
    "minimum = 1\n",
    "for i in range(6):\n",
    "    for j in range(6):\n",
    "        sum = sum + a[i,j]\n",
    "    for j in range(6):\n",
    "        if a[j,i] < minimum:\n",
    "            minimum = a[j,i]\n",
    "    res = sum/minimum\n",
    "    print(res)\n",
    "    sum=0\n",
    "    minimum = 1"
   ]
  },
  {
   "cell_type": "code",
   "execution_count": 17,
   "metadata": {},
   "outputs": [
    {
     "name": "stdout",
     "output_type": "stream",
     "text": [
      "5\n"
     ]
    }
   ],
   "source": [
    "#Exercise 3\n",
    "\n",
    "maximum = -1\n",
    "x = np.array([6, 2, 0, 3, 0, 0, 5, 7, 0])\n",
    "for i in range(1,9):\n",
    "    if x[i-1]==0:\n",
    "        if x[i]>maximum:\n",
    "            maximum = x[i]\n",
    "print(maximum)"
   ]
  },
  {
   "cell_type": "code",
   "execution_count": 19,
   "metadata": {},
   "outputs": [
    {
     "name": "stdout",
     "output_type": "stream",
     "text": [
      "[2. 2. 2. 2. 1. 4. 1. 1. 2. 1.]\n"
     ]
    }
   ],
   "source": [
    "#Exercise 4\n",
    "\n",
    "x = np.ones(10)\n",
    "i = np.array([0, 1, 2, 3, 5, 5, 5, 8])\n",
    "for j in i:\n",
    "    x[j]=x[j]+1\n",
    "print(x)"
   ]
  },
  {
   "cell_type": "code",
   "execution_count": 19,
   "metadata": {},
   "outputs": [
    {
     "name": "stdout",
     "output_type": "stream",
     "text": [
      "{0: [0], 1: [1, 4], 2: [2, 5, 8], 3: [3, 6, 9, 12], 4: [7, 10, 13], 5: [11, 14], 6: [15]}\n"
     ]
    }
   ],
   "source": [
    "#Exercise 5\n",
    "\n",
    "a = np.arange(16).reshape(4, 4)\n",
    "n=4\n",
    "d={a: None for a in range(n*2-1)}\n",
    "b=[]\n",
    "for i in range(n):\n",
    "    for j in range(i+1):\n",
    "        b.append(a[j,i-j])\n",
    "    d[i]=b\n",
    "    b=[]\n",
    "for i in range(n-1):\n",
    "    for j in range(i+1):\n",
    "        b.append(a[n-i+j-1,n-j-1])\n",
    "    d[n*2-2-i]=b\n",
    "    b=[]\n",
    "print(d)"
   ]
  }
 ],
 "metadata": {
  "kernelspec": {
   "display_name": "Python 3",
   "language": "python",
   "name": "python3"
  },
  "language_info": {
   "codemirror_mode": {
    "name": "ipython",
    "version": 3
   },
   "file_extension": ".py",
   "mimetype": "text/x-python",
   "name": "python",
   "nbconvert_exporter": "python",
   "pygments_lexer": "ipython3",
   "version": "3.7.0"
  }
 },
 "nbformat": 4,
 "nbformat_minor": 2
}
