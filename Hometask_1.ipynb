{
 "cells": [
  {
   "cell_type": "code",
   "execution_count": 3,
   "metadata": {
    "scrolled": false
   },
   "outputs": [
    {
     "name": "stdout",
     "output_type": "stream",
     "text": [
      "Enter your name\n",
      "Makhmud\n",
      "Enter your age\n",
      "19\n",
      "Makhmud will turn 100 years old at 2100\n"
     ]
    }
   ],
   "source": [
    "#Exercise 1\n",
    "\n",
    "\n",
    "print(\"Enter your name\")\n",
    "name = input()\n",
    "print(\"Enter your age\")\n",
    "age = int(input())\n",
    "year = 2019+100-age\n",
    "print(name, \"will turn 100 years old at\", year)"
   ]
  },
  {
   "cell_type": "code",
   "execution_count": 6,
   "metadata": {},
   "outputs": [
    {
     "name": "stdout",
     "output_type": "stream",
     "text": [
      "Enter any number\n",
      "12\n",
      "The number is even\n"
     ]
    }
   ],
   "source": [
    "#Exercise 2\n",
    "\n",
    "\n",
    "print(\"Enter any number\")\n",
    "a = int(input())\n",
    "mod = a % 2\n",
    "if mod == 1:\n",
    "    print(\"The number is odd\")\n",
    "else:\n",
    "    print(\"The number is even\")"
   ]
  },
  {
   "cell_type": "code",
   "execution_count": 8,
   "metadata": {},
   "outputs": [
    {
     "name": "stdout",
     "output_type": "stream",
     "text": [
      "1\n",
      "1\n",
      "2\n",
      "3\n",
      "4\n",
      "2\n"
     ]
    }
   ],
   "source": [
    "#Exercise 3\n",
    "\n",
    "\n",
    "a = [1, 1, 2, 3, 5, 8, 4, 2, 34, 55, 89]\n",
    "b = []\n",
    "for c in a:\n",
    "    if c<5:\n",
    "        b.append(c)\n",
    "for c in b:\n",
    "    print(c)"
   ]
  },
  {
   "cell_type": "code",
   "execution_count": 10,
   "metadata": {},
   "outputs": [
    {
     "name": "stdout",
     "output_type": "stream",
     "text": [
      "Enter any number\n",
      "36\n",
      "The divisors are:\n",
      "2\n",
      "3\n",
      "4\n",
      "6\n",
      "9\n",
      "12\n",
      "18\n"
     ]
    }
   ],
   "source": [
    "#Exercise 4\n",
    "\n",
    "\n",
    "print(\"Enter any number\")\n",
    "a = int(input())\n",
    "divisors = []\n",
    "x = range(2, a)\n",
    "for num in x:\n",
    "    if a % num == 0:\n",
    "        divisors.append(num)\n",
    "print(\"The divisors are:\")\n",
    "for num in divisors:\n",
    "    print(num)"
   ]
  },
  {
   "cell_type": "code",
   "execution_count": 13,
   "metadata": {},
   "outputs": [
    {
     "name": "stdout",
     "output_type": "stream",
     "text": [
      "1\n",
      "2\n",
      "3\n",
      "5\n",
      "8\n",
      "13\n"
     ]
    }
   ],
   "source": [
    "bul = 1\n",
    "a = [1, 1, 2, 3, 5, 8, 13, 21, 34, 55, 89]\n",
    "b = [1, 2, 3, 4, 5, 6, 7, 8, 9, 10, 11, 12, 13]\n",
    "c=[]\n",
    "for i in a:\n",
    "    bul = 1\n",
    "    for j in c:\n",
    "        if j == i:\n",
    "            bul = 0\n",
    "    if bul == 1:\n",
    "        for j in b:\n",
    "            if i == j:\n",
    "                c.append(i)\n",
    "                break\n",
    "for i in c:\n",
    "    print(i)"
   ]
  },
  {
   "cell_type": "code",
   "execution_count": 35,
   "metadata": {},
   "outputs": [
    {
     "name": "stdout",
     "output_type": "stream",
     "text": [
      "write any word\n",
      "saddas\n",
      "Palyndrom\n"
     ]
    }
   ],
   "source": [
    "print(\"write any word\")\n",
    "s = input()\n",
    "j=0\n",
    "for i in s:\n",
    "    j=j+1\n",
    "bul = 1\n",
    "for x in range(j):\n",
    "    if s[x] != s [j-x-1]:\n",
    "        bul=0\n",
    "        break\n",
    "if bul == 0:\n",
    "    print(\"Not a palyndrom\")\n",
    "elif bul == 1:\n",
    "    print(\"Palyndrom\")\n",
    "else:\n",
    "    print(\"ERROR\")"
   ]
  },
  {
   "cell_type": "code",
   "execution_count": 39,
   "metadata": {},
   "outputs": [],
   "source": [
    "a = [1, 4, 9, 16, 25, 36, 49, 64, 81, 100]\n",
    "b = [i for i in a if i%2==0]"
   ]
  },
  {
   "cell_type": "code",
   "execution_count": null,
   "metadata": {},
   "outputs": [],
   "source": []
  }
 ],
 "metadata": {
  "kernelspec": {
   "display_name": "Python 3",
   "language": "python",
   "name": "python3"
  },
  "language_info": {
   "codemirror_mode": {
    "name": "ipython",
    "version": 3
   },
   "file_extension": ".py",
   "mimetype": "text/x-python",
   "name": "python",
   "nbconvert_exporter": "python",
   "pygments_lexer": "ipython3",
   "version": "3.7.0"
  }
 },
 "nbformat": 4,
 "nbformat_minor": 2
}
